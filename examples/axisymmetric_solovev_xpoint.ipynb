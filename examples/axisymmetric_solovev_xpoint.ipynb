{
 "cells": [
  {
   "cell_type": "code",
   "execution_count": 1,
   "metadata": {},
   "outputs": [],
   "source": [
    "using ElectromagneticFields"
   ]
  },
  {
   "cell_type": "code",
   "execution_count": 2,
   "metadata": {},
   "outputs": [],
   "source": [
    "using Makie"
   ]
  },
  {
   "cell_type": "code",
   "execution_count": 3,
   "metadata": {},
   "outputs": [],
   "source": [
    "# ITER parameters\n",
    "const R₀ =  6.2\n",
    "const B₀ =  5.3\n",
    "const ϵ  =  0.32\n",
    "const κ  =  1.8\n",
    "const δ  =  0.45\n",
    "const a  = -0.155\n",
    "const xₛ =  0.88\n",
    "const yₛ = -0.60\n",
    ";"
   ]
  },
  {
   "cell_type": "code",
   "execution_count": 4,
   "metadata": {},
   "outputs": [
    {
     "data": {
      "text/plain": [
       "Solovev Xpoint Equilibrium with\n",
       "  R₀ = 6.2\n",
       "  B₀ = 5.3\n",
       "  ϵ  = 0.32\n",
       "  κ  = 1.8\n",
       "  δ  = 0.45\n",
       "  a  = -0.155\n",
       "  xₛₑₚ  = 0.88\n",
       "  yₛₑₚ  = -0.6"
      ]
     },
     "execution_count": 4,
     "metadata": {},
     "output_type": "execute_result"
    }
   ],
   "source": [
    "eq = SolovevXpoint(R₀, B₀, ϵ, κ, δ, a, xₛ, yₛ)"
   ]
  },
  {
   "cell_type": "code",
   "execution_count": 5,
   "metadata": {},
   "outputs": [
    {
     "data": {
      "text/plain": [
       "(6.2, 5.3, 0.32, 1.8, 0.45, -0.155, 0.88, -0.6, [0.09613762594168038, 0.39445424255337164, -0.621097190914186, -0.28303451425417436, 0.42278071745680035, -0.3867477002799743, -0.015948977123148397, 0.16766516212961974, 0.7669711146818977, -0.47623733014905795, -0.11563861403911574, 0.01327144465745639], Z, g²², g¹², E³, r, d²A₃dx₁dx₁, b¹, db₁dx₂, E¹, A², B₃, db₂dx₂, d²A₁dx₂dx₁, d²b₃dx₂dx₂, B₂₃, d²A₃dx₃dx₁, B₂₁, dB₂dx₁, dBdx₂, g¹¹, d²b₃dx₂dx₁, db₃dx₂, E₂, d²Bdx₁dx₂, g₃₂, g²³, g₂₂, dA₃dx₃, B², dA₃dx₂, A₃, Y, b³, E₃, d²Bdx₂dx₃, d²A₃dx₂dx₁, θ, dA₁dx₂, dB₁dx₃, d²b₃dx₁dx₃, d²Bdx₂dx₁, B₂, d²A₂dx₁dx₃, B₃₁, d²b₁dx₂dx₂, d²A₃dx₁dx₂, d²b₁dx₃dx₂, E₁, d²b₃dx₃dx₂, d²A₂dx₂dx₂, b₁, dBdx₃, d²b₁dx₁dx₁, dB₁dx₁, g₂₁, g²¹, B₂₂, φ, A³, d²b₂dx₁dx₃, d²A₂dx₃dx₁, dBdx₁, g₂₃, d²b₃dx₃dx₁, d²b₁dx₃dx₃, b₂, g₁₁, d²Bdx₂dx₂, d²A₁dx₃dx₃, A¹, d²b₂dx₂dx₂, dA₁dx₁, d²A₂dx₂dx₁, d²b₃dx₁dx₁, B₁₁, g³², d²b₂dx₂dx₁, dB₂dx₃, db₁dx₃, d²A₂dx₁dx₂, B₁₃, B³, d²A₁dx₂dx₂, dA₂dx₃, d²Bdx₃dx₂, db₃dx₃, d²b₂dx₃dx₂, g₁₂, d²A₂dx₂dx₃, d²A₃dx₃dx₃, B, d²Bdx₁dx₁, dA₂dx₂, d²b₁dx₃dx₁, d²A₁dx₂dx₃, B₃₃, d²b₂dx₃dx₁, d²b₃dx₃dx₃, dB₃dx₂, d²A₁dx₃dx₂, d²A₂dx₁dx₁, dB₁dx₂, dB₃dx₁, X, dB₂dx₂, ϕ, d²b₂dx₁dx₂, d²A₂dx₃dx₂, d²A₃dx₁dx₃, d²A₁dx₁dx₃, dA₁dx₃, dA₂dx₁, g₃₃, d²b₁dx₂dx₁, d²A₂dx₃dx₃, d²Bdx₁dx₃, b₃, d²b₁dx₂dx₃, A₁, A₂, db₂dx₃, g₃₁, B₃₂, d²b₁dx₁dx₂, d²A₁dx₁dx₁, d²b₃dx₂dx₃, d²Bdx₃dx₁, d²A₃dx₂dx₃, g₁₃, b², B₁₂, d²b₂dx₂dx₃, d²b₃dx₁dx₂, d²A₃dx₃dx₂, g¹³, d²A₁dx₁dx₂, db₂dx₁, d²b₂dx₃dx₃, d²b₁dx₁dx₃, d²A₃dx₂dx₂, d²b₂dx₁dx₁, db₃dx₁, g³³, dA₃dx₁, E², B¹, db₁dx₁, J, d²A₁dx₃dx₁, g³¹, dB₃dx₃, B₁, R, d²Bdx₃dx₃)"
      ]
     },
     "execution_count": 5,
     "metadata": {},
     "output_type": "execute_result"
    }
   ],
   "source": [
    "load_equilibrium(eq)"
   ]
  },
  {
   "cell_type": "code",
   "execution_count": 6,
   "metadata": {},
   "outputs": [],
   "source": [
    "rgrid = LinRange( 3.0,  9.0, 100)\n",
    "zgrid = LinRange(-5.0, +5.0, 120)\n",
    ";"
   ]
  },
  {
   "cell_type": "code",
   "execution_count": 7,
   "metadata": {},
   "outputs": [],
   "source": [
    "xgrid = rgrid ./ R₀\n",
    "ygrid = zgrid ./ R₀\n",
    ";"
   ]
  },
  {
   "cell_type": "code",
   "execution_count": 8,
   "metadata": {},
   "outputs": [],
   "source": [
    "field = zeros(length(xgrid), length(ygrid))\n",
    "potAR = zeros(length(xgrid), length(ygrid))\n",
    "potAZ = zeros(length(xgrid), length(ygrid))\n",
    "potAP = zeros(length(xgrid), length(ygrid))\n",
    ";"
   ]
  },
  {
   "cell_type": "code",
   "execution_count": 9,
   "metadata": {},
   "outputs": [],
   "source": [
    "for i in eachindex(xgrid)\n",
    "    for j in eachindex(ygrid)\n",
    "        field[i,j] = B(xgrid[i], ygrid[j], 0.0)\n",
    "        potAR[i,j] = A₁(xgrid[i], ygrid[j], 0.0)\n",
    "        potAZ[i,j] = A₂(xgrid[i], ygrid[j], 0.0)\n",
    "        potAP[i,j] = A₃(xgrid[i], ygrid[j], 0.0)\n",
    "    end\n",
    "end"
   ]
  },
  {
   "cell_type": "code",
   "execution_count": 10,
   "metadata": {},
   "outputs": [],
   "source": [
    "# compute separatrix for comparison\n",
    "τ = LinRange(0, 2π, 200)\n",
    "boundary_X = 1 .+ ϵ .* cos.(τ .+ asin(δ) .* sin.(τ) )\n",
    "boundary_Y = ϵ .* κ .* sin.(τ)\n",
    ";"
   ]
  },
  {
   "cell_type": "code",
   "execution_count": 11,
   "metadata": {
    "scrolled": false
   },
   "outputs": [
    {
     "name": "stderr",
     "output_type": "stream",
     "text": [
      "┌ Warning: `a::StaticArray + b::Number` is deprecated, use `a .+ b` instead.\n",
      "│   caller = (::AbstractPlotting.var\"#49#50\"{AbstractPlotting.TextureAtlas,Char,Array{Ptr{FreeType.FT_FaceRec},1}})() at texture_atlas.jl:186\n",
      "└ @ AbstractPlotting /Users/mkraus/.julia/packages/AbstractPlotting/B5nOF/src/utilities/texture_atlas.jl:186\n",
      "┌ Warning: `a::StaticArray - b::Number` is deprecated, use `a .- b` instead.\n",
      "│   caller = (::AbstractPlotting.var\"#49#50\"{AbstractPlotting.TextureAtlas,Char,Array{Ptr{FreeType.FT_FaceRec},1}})() at texture_atlas.jl:186\n",
      "└ @ AbstractPlotting /Users/mkraus/.julia/packages/AbstractPlotting/B5nOF/src/utilities/texture_atlas.jl:186\n",
      "┌ Warning: `a::StaticArray + b::Number` is deprecated, use `a .+ b` instead.\n",
      "│   caller = + at operators.jl:529 [inlined]\n",
      "└ @ Core ./operators.jl:529\n",
      "┌ Warning: `a::StaticArray + b::Number` is deprecated, use `a .+ b` instead.\n",
      "│   caller = (::AbstractPlotting.var\"#49#50\"{AbstractPlotting.TextureAtlas,Char,Array{Ptr{FreeType.FT_FaceRec},1}})() at texture_atlas.jl:194\n",
      "└ @ AbstractPlotting /Users/mkraus/.julia/packages/AbstractPlotting/B5nOF/src/utilities/texture_atlas.jl:194\n"
     ]
    },
    {
     "data": {},
     "execution_count": 11,
     "metadata": {},
     "output_type": "execute_result"
    }
   ],
   "source": [
    "axis = (names = (axisnames = (\"R\", \"Z\"),),)\n",
    "scene = hbox(\n",
    "    vbox(\n",
    "        contour(rgrid, zgrid, potAR, axis=axis, levels=10),#L\"$A_R(R,Z)$\"\n",
    "        contour(rgrid, zgrid, potAZ, axis=axis, levels=10) #L\"$A_Z(R,Z)$\"\n",
    "    ),\n",
    "    vbox(\n",
    "        contour(rgrid, zgrid, field, axis=axis, levels=10, linewidth=0, fillrange=true),#L\"$B(R,Z)$\"\n",
    "        contour(rgrid, zgrid, potAP, axis=axis, levels=100)#L\"$A_\\phi(R,Z)$\"\n",
    "    )\n",
    ")\n",
    "lines!(scene.children[2].children[2], boundary_X .* R₀, boundary_Y .* R₀, color=:red, linewidth=3)\n",
    "scene"
   ]
  },
  {
   "cell_type": "code",
   "execution_count": 12,
   "metadata": {},
   "outputs": [],
   "source": [
    "psi = [A₃(x, y, 0.0) for x in xgrid, y in ygrid];"
   ]
  },
  {
   "cell_type": "code",
   "execution_count": 13,
   "metadata": {},
   "outputs": [
    {
     "data": {},
     "execution_count": 13,
     "metadata": {},
     "output_type": "execute_result"
    }
   ],
   "source": [
    "scene_conts = Scene(resolution=(1200, 1800), axis=axis)\n",
    "contour!(scene_conts, rgrid, zgrid, psi, levels=100, linewidth=3)\n",
    "scene_conts"
   ]
  },
  {
   "cell_type": "code",
   "execution_count": 14,
   "metadata": {},
   "outputs": [
    {
     "data": {
      "text/plain": [
       "703922"
      ]
     },
     "execution_count": 14,
     "metadata": {},
     "output_type": "execute_result"
    }
   ],
   "source": [
    "save(\"axisymmetric_solovev_xpoint.png\", scene_conts)"
   ]
  },
  {
   "cell_type": "code",
   "execution_count": null,
   "metadata": {},
   "outputs": [],
   "source": []
  }
 ],
 "metadata": {
  "@webio": {
   "lastCommId": null,
   "lastKernelId": null
  },
  "kernelspec": {
   "display_name": "Julia 1.3.0",
   "language": "julia",
   "name": "julia-1.3"
  },
  "language_info": {
   "file_extension": ".jl",
   "mimetype": "application/julia",
   "name": "julia",
   "version": "1.3.0"
  }
 },
 "nbformat": 4,
 "nbformat_minor": 1
}
